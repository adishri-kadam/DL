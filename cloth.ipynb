{
 "cells": [
  {
   "cell_type": "code",
   "execution_count": 1,
   "id": "0939b4e4-e213-4193-94f2-daa1eedfc4d6",
   "metadata": {},
   "outputs": [],
   "source": [
    "import matplotlib.pyplot as plt\n",
    "import pandas as pd\n",
    "import numpy as np"
   ]
  },
  {
   "cell_type": "code",
   "execution_count": 2,
   "id": "d0899588-aa2d-4110-a9fb-b9520cbc2983",
   "metadata": {},
   "outputs": [],
   "source": [
    "train_df = pd.read_csv('fashion-mnist_train.csv')\n",
    "test_df = pd.read_csv('fashion-mnist_test.csv')"
   ]
  },
  {
   "cell_type": "code",
   "execution_count": 3,
   "id": "5bad0491-fb1c-45f2-a86f-55ef0ece023a",
   "metadata": {},
   "outputs": [],
   "source": [
    "test_df = pd.read_csv('fashion-mnist_test.csv')"
   ]
  },
  {
   "cell_type": "code",
   "execution_count": 4,
   "id": "6b31a56c-7e1d-4acb-b6b8-77dc55d345c6",
   "metadata": {},
   "outputs": [],
   "source": [
    "class_names = ['t-shirt/top' , 'trouser' , 'pullover' , 'dress' , 'coat' , 'sandal' , 'skirt' , 'sneaker' , 'bag' , 'ankel boot']"
   ]
  },
  {
   "cell_type": "code",
   "execution_count": 5,
   "id": "fb3dc6ed-3c8b-4892-a8b3-2ba47821f45a",
   "metadata": {},
   "outputs": [],
   "source": [
    "x_train = train_df.iloc[: , 1:].to_numpy()\n",
    "x_train = x_train.reshape([-1,28,28,1])\n",
    "x_train = x_train / 255\n",
    "y_train = train_df.iloc[: , 0].to_numpy()"
   ]
  },
  {
   "cell_type": "code",
   "execution_count": 6,
   "id": "bf498198-890d-4deb-94c6-7004916c4bd7",
   "metadata": {},
   "outputs": [],
   "source": [
    "x_test = test_df.iloc[:,1:].to_numpy()\n",
    "x_test = x_test.reshape([-1,28,28,1])\n",
    "x_test = x_test / 255\n",
    "y_test = test_df.iloc[:,0].to_numpy()"
   ]
  },
  {
   "cell_type": "code",
   "execution_count": null,
   "id": "7ec37bf9-ed17-43f1-9a6b-f24287fda473",
   "metadata": {},
   "outputs": [],
   "source": [
    "plt.figure(figsize=(10,10))\n",
    "for i in range(25):\n",
    "    plt.subplot(5,5,i+1)\n",
    "    plt.xticks([])\n",
    "    plt.yticks([])\n",
    "    plt.grid(False)\n",
    "    plt.imshow(x_train[i], cmap=plt.cm.binary)\n",
    "    plt.xlabel(class_names[y_train[i]])\n",
    "plt.show()"
   ]
  },
  {
   "cell_type": "code",
   "execution_count": null,
   "id": "2a1ec3d3-d303-4ab3-b599-acef48b2c32b",
   "metadata": {},
   "outputs": [],
   "source": [
    "from keras.models import Sequential\n",
    "from keras.layers import Dense,Conv2D,Flatten,MaxPooling2D,Dropout\n",
    "model = Sequential()\n",
    "model.add(Conv2D(filters=64,kernel_size=(3,3),input_shape=(28,28,1),activation='relu'))\n",
    "model.add(MaxPooling2D(pool_size = (2,2)))\n",
    "model.add(Dropout(rate=0.3))\n",
    "model.add(Flatten())\n",
    "model.add(Dense(units=32, activation='relu'))\n",
    "model.add(Dense(units=10, activation='sigmoid'))\n",
    "model.compile(loss='sparse_categorical_crossentropy',optimizer='adam',metrics=['accuracy'])\n",
    "model.summary()"
   ]
  },
  {
   "cell_type": "code",
   "execution_count": null,
   "id": "59b089ee-fe2e-4673-b0c4-6d94d9eaddf0",
   "metadata": {},
   "outputs": [],
   "source": [
    "model.fit(x_train,y_train,epochs=5,batch_size=1200,validation_split=0.05) #fit"
   ]
  },
  {
   "cell_type": "code",
   "execution_count": null,
   "id": "57969529-19cc-46a4-8e4c-3eaeec8fb35d",
   "metadata": {},
   "outputs": [],
   "source": [
    "evaluation = model.evaluate(x_test,y_test)\n",
    "print(f\"Accuracy: {evaluation[1]}\")                #evaluate"
   ]
  },
  {
   "cell_type": "code",
   "execution_count": null,
   "id": "1844fd56-a0b3-4c3a-959c-db1a1873e576",
   "metadata": {},
   "outputs": [],
   "source": [
    "y_probs = model.predict(x_test)\n",
    "y_predict = y_probs.argmax(axis=-1)          #predict\n",
    "y_predict"
   ]
  },
  {
   "cell_type": "code",
   "execution_count": null,
   "id": "15bbcccc-cf2d-40c6-a915-d3c6fed30858",
   "metadata": {},
   "outputs": [],
   "source": [
    "plt.figure(figsize=(10,10),)\n",
    "for i in range(25):\n",
    "    plt.subplot(5,5,i+1)\n",
    "    plt.xticks([])\n",
    "    plt.yticks([])\n",
    "    plt.grid(False)\n",
    "    plt.imshow(x_test[i], cmap=plt.cm.binary)                    #image predicted\n",
    "    plt.title(f\"Pred:{class_names[y_predict[i]]}\")\n",
    "plt.show()"
   ]
  },
  {
   "cell_type": "code",
   "execution_count": 21,
   "id": "ae50695a-993d-457c-b563-de99ed92727c",
   "metadata": {},
   "outputs": [
    {
     "name": "stdout",
     "output_type": "stream",
     "text": [
      "              precision    recall  f1-score   support\n",
      "\n",
      " t-shirt/top       0.79      0.87      0.83      1000\n",
      "     trouser       0.99      0.96      0.98      1000\n",
      "    pullover       0.82      0.83      0.83      1000\n",
      "       dress       0.86      0.93      0.90      1000\n",
      "        coat       0.80      0.87      0.84      1000\n",
      "      sandal       0.96      0.94      0.95      1000\n",
      "       skirt       0.78      0.58      0.66      1000\n",
      "     sneaker       0.91      0.94      0.93      1000\n",
      "         bag       0.96      0.97      0.97      1000\n",
      "  ankel boot       0.95      0.95      0.95      1000\n",
      "\n",
      "    accuracy                           0.88     10000\n",
      "   macro avg       0.88      0.88      0.88     10000\n",
      "weighted avg       0.88      0.88      0.88     10000\n",
      "\n"
     ]
    }
   ],
   "source": [
    "from sklearn.metrics import classification_report\n",
    "cr = classification_report(y_test, y_predict, target_names=class_names)\n",
    "print(cr)"
   ]
  }
 ],
 "metadata": {
  "kernelspec": {
   "display_name": "Python 3 (ipykernel)",
   "language": "python",
   "name": "python3"
  },
  "language_info": {
   "codemirror_mode": {
    "name": "ipython",
    "version": 3
   },
   "file_extension": ".py",
   "mimetype": "text/x-python",
   "name": "python",
   "nbconvert_exporter": "python",
   "pygments_lexer": "ipython3",
   "version": "3.9.8"
  }
 },
 "nbformat": 4,
 "nbformat_minor": 5
}
